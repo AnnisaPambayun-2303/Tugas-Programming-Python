{
 "cells": [
  {
   "cell_type": "code",
   "execution_count": 12,
   "metadata": {},
   "outputs": [
    {
     "name": "stdout",
     "output_type": "stream",
     "text": [
      "Ini hanya contoh\n",
      "Program untuk Menghitung Pajak PPN yang Ditetapkan pada Barang yang Akan Dijual\n",
      "----------------------------------\n",
      "Besar pajak yang harus Anda tambahkan pada barang yang akan dijual sebesar Rp 1575000.0\n",
      "----------------------------------\n",
      "Terimakasih Sudah Membantu Indonesia untuk menjadi Negara Maju\n"
     ]
    }
   ],
   "source": [
    "print ('Ini hanya contoh')\n",
    "print ('Program untuk Menghitung Pajak PPN yang Ditetapkan pada Barang yang Akan Dijual')\n",
    "print ('----------------------------------')\n",
    "\n",
    "Harga = 15750000\n",
    "Pajak = True\n",
    "Bebas_Pajak = False\n",
    "\n",
    "if Pajak == True:\n",
    "    if Bebas_Pajak == False:\n",
    "        Harga = Harga*0.1 \n",
    "        print ('Besar pajak yang harus Anda tambahkan pada barang yang akan dijual sebesar Rp', Harga)\n",
    "    else:\n",
    "        print ('Anda disunnahkan untuk menambahkan pajak pada barang yang dijual')\n",
    "else:\n",
    "    if Bebas_Pajak == False:\n",
    "        print ('Anda tidak diwajidkan untuk menambah besar pajak pada barang jualan')\n",
    "    else:\n",
    "        print ('Anda tidak perlu menambah pajak pada barang jualan')\n",
    "\n",
    "print ('----------------------------------')\n",
    "print ('Terimakasih Sudah Membantu Indonesia untuk menjadi Negara Maju')"
   ]
  },
  {
   "cell_type": "code",
   "execution_count": 2,
   "metadata": {},
   "outputs": [
    {
     "name": "stdout",
     "output_type": "stream",
     "text": [
      "Pajak PPN yang Ditetapkan pada Barang yang Akan Dijual\n",
      "----------------------------------\n",
      "Harga barang yang akan dijual Rp  54000\n",
      "Besar pajak yang harus Anda tambahkan pada barang yang akan dijual sebesar Rp 5400.0\n",
      "----------------------------------\n",
      "Terimakasih Sudah Membantu Indonesia untuk menjadi Negara Maju\n"
     ]
    }
   ],
   "source": [
    "print ('Pajak PPN yang Ditetapkan pada Barang yang Akan Dijual')\n",
    "print ('----------------------------------')\n",
    "\n",
    "Harga = int(input('Harga barang yang akan dijual Rp  '))\n",
    "Pajak = True\n",
    "Bebas_Pajak = False\n",
    "\n",
    "if Pajak == True:\n",
    "    if Bebas_Pajak == False:\n",
    "        Harga = Harga*0.1 \n",
    "        print ('Besar pajak yang harus Anda tambahkan pada barang yang akan dijual sebesar Rp', Harga)\n",
    "    else:\n",
    "        print ('Anda disunnahkan untuk menambahkan pajak pada barang yang dijual')\n",
    "else:\n",
    "    if Bebas_Pajak == False:\n",
    "        print ('Anda tidak diwajidkan untuk menambah besar pajak pada barang jualan')\n",
    "    else:\n",
    "        print ('Anda tidak perlu menambah pajak pada barang jualan')\n",
    "\n",
    "print ('----------------------------------')\n",
    "print ('Terimakasih Sudah Membantu Indonesia untuk menjadi Negara Maju')"
   ]
  }
 ],
 "metadata": {
  "kernelspec": {
   "display_name": "Python 3",
   "language": "python",
   "name": "python3"
  },
  "language_info": {
   "codemirror_mode": {
    "name": "ipython",
    "version": 3
   },
   "file_extension": ".py",
   "mimetype": "text/x-python",
   "name": "python",
   "nbconvert_exporter": "python",
   "pygments_lexer": "ipython3",
   "version": "3.7.4"
  }
 },
 "nbformat": 4,
 "nbformat_minor": 2
}
